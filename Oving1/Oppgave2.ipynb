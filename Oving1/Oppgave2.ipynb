{
 "cells": [
  {
   "cell_type": "code",
   "execution_count": 1,
   "id": "36d3f9ae",
   "metadata": {},
   "outputs": [],
   "source": [
    "import numpy as np\n",
    "\n",
    "def nest(c,x):\n",
    "    #Evaluer polynomet med koeffisienter c[] i x vha horners metode\n",
    "    #Du kan se på matlabfunksjonen nest i Sauer for inspirasjon\n",
    "    n = len(c) - 1\n",
    "    result = c[n]\n",
    "    for i in range(n-1, -1, -1):\n",
    "        result = result * x + c[i]\n",
    "    return result\n",
    "\n",
    "#Denne funksjonen skal printe ut feilen du får når du bruker funksjonen \"funk(c,x)\"\n",
    "#til å evaluere polynomet fra oppgaveteksten ved å sammenligne det med det ekvivalente uttrykket\n",
    "def test_feil(funk):\n",
    "    c = np.ones(51) #sjekk ut numpy funksjonen ones :)\n",
    "    x = 1.00001\n",
    "    Px = (x**51 - 1) / (x - 1) #Ekvivalent uttrykk for polynom fra oppgavetekst, evaluert i x=1.00001\n",
    "    return (abs(Px-funk(c,x)))\n",
    "\n",
    "\n"
   ]
  },
  {
   "cell_type": "code",
   "execution_count": 3,
   "id": "6223480a",
   "metadata": {},
   "outputs": [
    {
     "name": "stdout",
     "output_type": "stream",
     "text": [
      "4.76064e-12\n"
     ]
    }
   ],
   "source": [
    "print(f\"{test_feil(nest):.5e}\")"
   ]
  },
  {
   "cell_type": "code",
   "execution_count": null,
   "id": "007a314b",
   "metadata": {},
   "outputs": [],
   "source": []
  }
 ],
 "metadata": {
  "kernelspec": {
   "display_name": "Python 3 (ipykernel)",
   "language": "python",
   "name": "python3"
  },
  "language_info": {
   "codemirror_mode": {
    "name": "ipython",
    "version": 3
   },
   "file_extension": ".py",
   "mimetype": "text/x-python",
   "name": "python",
   "nbconvert_exporter": "python",
   "pygments_lexer": "ipython3",
   "version": "3.11.9"
  }
 },
 "nbformat": 4,
 "nbformat_minor": 5
}

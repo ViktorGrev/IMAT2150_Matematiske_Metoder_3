{
 "cells": [
  {
   "cell_type": "code",
   "execution_count": 2,
   "id": "678b51fb",
   "metadata": {},
   "outputs": [
    {
     "name": "stdout",
     "output_type": "stream",
     "text": [
      "x         Original                      Rewritten                     Correct decimal places   \n",
      "-----------------------------------------------------------------------------------------------\n",
      "0.1       0.9898824077588841            0.989932953577505             4.0                      \n",
      "0.01      0.9998999883324138            0.9998999933329555            Infinity                 \n",
      "0.001     0.9999989999988333            0.9999989999993333            Infinity                 \n",
      "0.0001    0.9999999899999998            0.99999999                    Infinity                 \n",
      "1e-05     0.9999999999                  0.9999999999                  Infinity                 \n",
      "1e-06     0.999999999999                0.9999999999990001            Infinity                 \n",
      "1e-07     0.99999999999999              0.99999999999999              Infinity                 \n",
      "1e-08     0.9999999999999999            0.9999999999999998            Infinity                 \n",
      "1e-09     1.0                           1.0                           Infinity                 \n",
      "1e-10     1.0                           1.0                           Infinity                 \n",
      "1e-11     1.0                           1.0                           Infinity                 \n",
      "1e-12     1.0                           1.0                           Infinity                 \n",
      "1e-13     1.0                           1.0                           Infinity                 \n",
      "1e-14     1.0                           1.0                           Infinity                 \n"
     ]
    }
   ],
   "source": [
    "import numpy as np\n",
    "\n",
    "sec = lambda x: 1.0 / np.cos(x)\n",
    "f_orig = lambda x: 1 - sec(x) * np.tan(x)**2\n",
    "f_ny = lambda x: np.cos(2 * x) / np.cos(x)**2\n",
    "\n",
    "x_values = [10**(-i) for i in range(1, 15)]\n",
    "\n",
    "print(\"{:<10}{:<30}{:<30}{:<25}\".format(\"x\", \"Original\", \"Rewritten\", \"Correct decimal places\"))\n",
    "print(\"-\" * 95)\n",
    "\n",
    "for xi in x_values:\n",
    "    fx_orig = f_orig(xi)\n",
    "    fx_ny = f_ny(xi)\n",
    "    difference = np.abs(fx_orig - fx_ny)\n",
    "    if np.isclose(difference, 0):\n",
    "        korrekte = 'Infinity'\n",
    "    else:\n",
    "        korrekte = -np.floor(np.log10(difference)) - 1\n",
    "    print(\"{:<10}{:<30}{:<30}{:<25}\".format(xi, fx_orig, fx_ny, korrekte))\n"
   ]
  },
  {
   "cell_type": "code",
   "execution_count": null,
   "id": "9ce66f75",
   "metadata": {},
   "outputs": [],
   "source": []
  }
 ],
 "metadata": {
  "kernelspec": {
   "display_name": "Python 3 (ipykernel)",
   "language": "python",
   "name": "python3"
  },
  "language_info": {
   "codemirror_mode": {
    "name": "ipython",
    "version": 3
   },
   "file_extension": ".py",
   "mimetype": "text/x-python",
   "name": "python",
   "nbconvert_exporter": "python",
   "pygments_lexer": "ipython3",
   "version": "3.11.9"
  }
 },
 "nbformat": 4,
 "nbformat_minor": 5
}
